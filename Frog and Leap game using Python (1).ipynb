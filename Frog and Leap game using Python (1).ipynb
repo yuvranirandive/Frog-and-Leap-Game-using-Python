{
 "cells": [
  {
   "cell_type": "code",
   "execution_count": null,
   "id": "c8eb905d",
   "metadata": {},
   "outputs": [
    {
     "name": "stdout",
     "output_type": "stream",
     "text": [
      "###### Always enter an integer less that 7 ######\n",
      "[ 0 ,  1 ,  2 ,  3 ,  4 ,  5 ,  6 ]\n",
      "['G', 'G', 'G', '-', 'B', 'B', 'B']\n"
     ]
    }
   ],
   "source": [
    "from IPython.display import clear_output\n",
    "Positions = list(['G','G','G','-','B','B','B'])\n",
    "print(\"###### Always enter an integer less that 7 ######\")\n",
    "print(\"[ 0 ,  1 ,  2 ,  3 ,  4 ,  5 ,  6 ]\")\n",
    "print(Positions)\n",
    "\n",
    "def is_Invalid(pos):\n",
    "    if pos<0 or 6<pos:\n",
    "        return True    \n",
    "    if Positions[pos] == '-':\n",
    "        return True\n",
    "    \n",
    "    if Positions[pos] == 'G':\n",
    "        if (pos + 1) <= 6 and Positions[pos + 1] == '-':\n",
    "            return False\n",
    "        elif (pos + 2) <= 6 and Positions[pos + 2] == '-' and Positions[pos + 1] == 'B':\n",
    "            return False\n",
    "        else:\n",
    "             return True       \n",
    "        \n",
    "    if Positions[pos] == 'B':\n",
    "        if (pos - 1) >= 0 and Positions[pos - 1] == '-':\n",
    "            return False\n",
    "        elif (pos - 2) >= 0 and Positions[pos - 2] == '-' and Positions[pos - 1] == 'G':\n",
    "            return False\n",
    "        else:\n",
    "            return True\n",
    "\n",
    "def make_a_move(pos):\n",
    "    pos2 = 0\n",
    "    if Positions[pos] == 'G':\n",
    "        if Positions[pos + 1] == '-':\n",
    "            pos2 = (pos+1)\n",
    "        elif Positions[pos + 2] == '-':\n",
    "            pos2 = (pos+2)\n",
    "    elif Positions[pos] == 'B':\n",
    "        if Positions[pos - 1] == '-':\n",
    "            pos2 = (pos-1)\n",
    "        elif Positions[pos - 2] == '-':\n",
    "            pos2 = (pos-2)\n",
    "    \n",
    "    Positions[pos], Positions[pos2] = Positions[pos2], Positions[pos] \n",
    "        \n",
    "while(True):\n",
    "    pos = input(\"Press q to quit else \\nEnter position of piece:\")\n",
    "    if pos == 'q':\n",
    "        print(\"YOU LOSE!!\")\n",
    "        break\n",
    "    pos = int(pos)\n",
    "    if is_Invalid(pos):\n",
    "        print(\"Invalid move\")\n",
    "        continue\n",
    "    else:\n",
    "        make_a_move(pos)\n",
    "        clear_output()\n",
    "    print(\"[ 0 ,  1 ,  2 ,  3 ,  4 ,  5 ,  6 ]\")\n",
    "    print(Positions)\n",
    "    if Positions == ['B','B','B','-','G','G','G']:\n",
    "        print(\"YOU WIN\")\n",
    "        break"
   ]
  },
  {
   "cell_type": "code",
   "execution_count": null,
   "id": "d0858b03",
   "metadata": {},
   "outputs": [],
   "source": []
  }
 ],
 "metadata": {
  "kernelspec": {
   "display_name": "Python 3 (ipykernel)",
   "language": "python",
   "name": "python3"
  },
  "language_info": {
   "codemirror_mode": {
    "name": "ipython",
    "version": 3
   },
   "file_extension": ".py",
   "mimetype": "text/x-python",
   "name": "python",
   "nbconvert_exporter": "python",
   "pygments_lexer": "ipython3",
   "version": "3.11.5"
  }
 },
 "nbformat": 4,
 "nbformat_minor": 5
}
